{
 "cells": [
  {
   "cell_type": "code",
   "execution_count": 5,
   "id": "043c407f",
   "metadata": {},
   "outputs": [],
   "source": [
    "from pathlib import Path\n",
    "import pandas as pd\n",
    "\n",
    "DATA_DIR = Path(\"../data/processed\")\n",
    "CSV_PATH = DATA_DIR / \"daily_weather.csv\"\n",
    "PARQUET_PATH = DATA_DIR / \"daily_weather.parquet\"\n"
   ]
  },
  {
   "cell_type": "code",
   "execution_count": 6,
   "id": "ea53a865",
   "metadata": {},
   "outputs": [],
   "source": [
    "\n",
    "def load_data() -> pd.DataFrame:\n",
    "    if CSV_PATH.exists():\n",
    "        df = pd.read_csv(CSV_PATH)\n",
    "    elif PARQUET_PATH.exists():\n",
    "        df = pd.read_parquet(PARQUET_PATH)\n",
    "    else:\n",
    "        raise FileNotFoundError(\"Nenhum arquivo encontrado em data/processed/. Rode o ETL antes.\")\n",
    "    if \"date\" in df.columns:\n",
    "        df[\"date\"] = pd.to_datetime(df[\"date\"])\n",
    "    return df\n",
    "\n",
    "\n"
   ]
  },
  {
   "cell_type": "code",
   "execution_count": null,
   "id": "6b20b3d6",
   "metadata": {},
   "outputs": [],
   "source": [
    "# CSV_PATH\n",
    "df = load_data()\n",
    "\n"
   ]
  },
  {
   "cell_type": "code",
   "execution_count": 8,
   "id": "d1273b17",
   "metadata": {},
   "outputs": [
    {
     "data": {
      "text/html": [
       "<div>\n",
       "<style scoped>\n",
       "    .dataframe tbody tr th:only-of-type {\n",
       "        vertical-align: middle;\n",
       "    }\n",
       "\n",
       "    .dataframe tbody tr th {\n",
       "        vertical-align: top;\n",
       "    }\n",
       "\n",
       "    .dataframe thead th {\n",
       "        text-align: right;\n",
       "    }\n",
       "</style>\n",
       "<table border=\"1\" class=\"dataframe\">\n",
       "  <thead>\n",
       "    <tr style=\"text-align: right;\">\n",
       "      <th></th>\n",
       "      <th>city</th>\n",
       "      <th>date</th>\n",
       "      <th>temp_min</th>\n",
       "      <th>temp_avg</th>\n",
       "      <th>temp_max</th>\n",
       "      <th>rh_avg</th>\n",
       "      <th>precip_sum</th>\n",
       "      <th>hours</th>\n",
       "    </tr>\n",
       "  </thead>\n",
       "  <tbody>\n",
       "    <tr>\n",
       "      <th>0</th>\n",
       "      <td>brasilia</td>\n",
       "      <td>2025-08-19</td>\n",
       "      <td>15.1</td>\n",
       "      <td>21.04</td>\n",
       "      <td>27.5</td>\n",
       "      <td>36.17</td>\n",
       "      <td>0.0</td>\n",
       "      <td>24</td>\n",
       "    </tr>\n",
       "    <tr>\n",
       "      <th>1</th>\n",
       "      <td>brasilia</td>\n",
       "      <td>2025-08-20</td>\n",
       "      <td>15.0</td>\n",
       "      <td>21.00</td>\n",
       "      <td>28.4</td>\n",
       "      <td>39.88</td>\n",
       "      <td>0.0</td>\n",
       "      <td>24</td>\n",
       "    </tr>\n",
       "    <tr>\n",
       "      <th>2</th>\n",
       "      <td>brasilia</td>\n",
       "      <td>2025-08-21</td>\n",
       "      <td>15.5</td>\n",
       "      <td>21.48</td>\n",
       "      <td>28.4</td>\n",
       "      <td>32.58</td>\n",
       "      <td>0.0</td>\n",
       "      <td>24</td>\n",
       "    </tr>\n",
       "    <tr>\n",
       "      <th>3</th>\n",
       "      <td>rio_de_janeiro</td>\n",
       "      <td>2025-08-19</td>\n",
       "      <td>17.1</td>\n",
       "      <td>20.82</td>\n",
       "      <td>26.5</td>\n",
       "      <td>76.08</td>\n",
       "      <td>0.0</td>\n",
       "      <td>24</td>\n",
       "    </tr>\n",
       "    <tr>\n",
       "      <th>4</th>\n",
       "      <td>rio_de_janeiro</td>\n",
       "      <td>2025-08-20</td>\n",
       "      <td>17.2</td>\n",
       "      <td>23.15</td>\n",
       "      <td>31.8</td>\n",
       "      <td>70.00</td>\n",
       "      <td>0.0</td>\n",
       "      <td>24</td>\n",
       "    </tr>\n",
       "  </tbody>\n",
       "</table>\n",
       "</div>"
      ],
      "text/plain": [
       "             city       date  temp_min  temp_avg  temp_max  rh_avg  \\\n",
       "0        brasilia 2025-08-19      15.1     21.04      27.5   36.17   \n",
       "1        brasilia 2025-08-20      15.0     21.00      28.4   39.88   \n",
       "2        brasilia 2025-08-21      15.5     21.48      28.4   32.58   \n",
       "3  rio_de_janeiro 2025-08-19      17.1     20.82      26.5   76.08   \n",
       "4  rio_de_janeiro 2025-08-20      17.2     23.15      31.8   70.00   \n",
       "\n",
       "   precip_sum  hours  \n",
       "0         0.0     24  \n",
       "1         0.0     24  \n",
       "2         0.0     24  \n",
       "3         0.0     24  \n",
       "4         0.0     24  "
      ]
     },
     "execution_count": 8,
     "metadata": {},
     "output_type": "execute_result"
    }
   ],
   "source": [
    "df.head()"
   ]
  }
 ],
 "metadata": {
  "kernelspec": {
   "display_name": ".venv",
   "language": "python",
   "name": "python3"
  },
  "language_info": {
   "codemirror_mode": {
    "name": "ipython",
    "version": 3
   },
   "file_extension": ".py",
   "mimetype": "text/x-python",
   "name": "python",
   "nbconvert_exporter": "python",
   "pygments_lexer": "ipython3",
   "version": "3.10.12"
  }
 },
 "nbformat": 4,
 "nbformat_minor": 5
}
